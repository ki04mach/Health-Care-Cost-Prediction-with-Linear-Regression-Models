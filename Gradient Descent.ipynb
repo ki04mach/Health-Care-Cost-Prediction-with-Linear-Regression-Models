{
 "cells": [
  {
   "cell_type": "code",
   "execution_count": 5,
   "metadata": {},
   "outputs": [],
   "source": [
    "import pandas as pd\n",
    "import math"
   ]
  },
  {
   "cell_type": "code",
   "execution_count": 8,
   "metadata": {},
   "outputs": [],
   "source": [
    "def cost_fun(x: pd.DataFrame, y: pd.Series, w: pd.Series, b: float) -> float:\n",
    "    \"\"\"\n",
    "    Computes the cost function\n",
    "\n",
    "    Args:\n",
    "        x(pd.DataFrame): training data\n",
    "        y(pd.DataFrame): target values\n",
    "        w, b(Scalar): model parameters\n",
    "\n",
    "    Returns:\n",
    "        cost(float): The cost of using w and b as parameters of linear regression model    \n",
    "    \"\"\"\n",
    "    n = x.shape[0]\n",
    "    ss = 0\n",
    "    for i in range(n):\n",
    "        f_wb = pd.dot(w, x[i]) + b\n",
    "        sq_diff = (f_wb - y[i]) ** 2\n",
    "        ss += sq_diff\n",
    "    cost = (1 / (2 * n)) * ss\n",
    "    return cost"
   ]
  },
  {
   "cell_type": "code",
   "execution_count": 4,
   "metadata": {},
   "outputs": [],
   "source": [
    "def gradient(x: pd.Series, y: pd.Series, w: pd.Series, b: float):\n",
    "    \"\"\"\n",
    "    Computes the gradient(derivative)\n",
    "\n",
    "    Args:\n",
    "        x(pd.Dataframe): training data\n",
    "        y(pd.Series): target values\n",
    "        w (pd.Series): model parameter\n",
    "        b(Scalar): model parameters\n",
    "\n",
    "    Returns:\n",
    "        dj_dw(pd.Series): derivative of cost with respect to w of liniear regression \n",
    "        dj_db(Scalar): derivatives of cost with respect to b of linear regression model\n",
    "    \"\"\"\n",
    "    n, m = x.shape\n",
    "    s_w = pd.Series(0, index=range(m))\n",
    "    s_b = 0\n",
    "    for i in range(n):\n",
    "        f_wb = pd.dot(w , x[i]) + b\n",
    "        for j in range(m):\n",
    "            s_w[j] += (f_wb - y[i]) * x[i, j]\n",
    "        s_b += f_wb - y[i]\n",
    "    dj_dw = s_w / n\n",
    "    dj_db = s_b / n\n",
    "    return dj_dw , dj_db"
   ]
  },
  {
   "cell_type": "code",
   "execution_count": 7,
   "metadata": {},
   "outputs": [],
   "source": [
    "def gradient_descent(\n",
    "        x: pd.Series, y: pd.Series, w: float, b: float, alpha: float, num_iter: int, cost_fun, gradient\n",
    "        ) -> tuple:\n",
    "    \"\"\"\n",
    "    Performs gradient descent to fit w and b. Updates w and b \n",
    "    by taking num_iters gardient steps with learning rate alpha\n",
    "\n",
    "    Args:\n",
    "        x(pd.Series): training data\n",
    "        y(pd.Series): target values\n",
    "        w, b(Scalar): initial model parameters\n",
    "        alpha(float): learning rate\n",
    "        num_iter(int): number of iteration\n",
    "        cost_fun(function): to calculate cost function\n",
    "        gradient(function): to calculate derivatives\n",
    "\n",
    "    Returns:\n",
    "        w, b(Scalar): updated values of parameters after runnign gradient descent\n",
    "    \"\"\"\n",
    "    for i in range(num_iter):\n",
    "        dj_dw, dj_db = gradient(x, y, w, b)\n",
    "        if dj_dw == 0 or dj_db == 0:\n",
    "            print(f\"Convergence at iteration {i:5}\")\n",
    "            break\n",
    "        w -= alpha * dj_dw\n",
    "        b -= alpha * dj_db\n",
    "        cost_i = cost_fun(x , y , w, b)\n",
    "        if i % math.ceil(num_iter/10) == 0:\n",
    "            print(f\"Iteration {i:5}: Cost {cost_i}\")\n",
    "    return w, b"
   ]
  },
  {
   "cell_type": "code",
   "execution_count": null,
   "metadata": {},
   "outputs": [],
   "source": []
  }
 ],
 "metadata": {
  "kernelspec": {
   "display_name": "HealthCare",
   "language": "python",
   "name": "python3"
  },
  "language_info": {
   "codemirror_mode": {
    "name": "ipython",
    "version": 3
   },
   "file_extension": ".py",
   "mimetype": "text/x-python",
   "name": "python",
   "nbconvert_exporter": "python",
   "pygments_lexer": "ipython3",
   "version": "3.12.3"
  }
 },
 "nbformat": 4,
 "nbformat_minor": 2
}
